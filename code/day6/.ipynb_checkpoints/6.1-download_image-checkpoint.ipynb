{
 "cells": [
  {
   "cell_type": "markdown",
   "id": "915465c1",
   "metadata": {},
   "source": [
    "<a href=\"https://githubtocolab.com/gee-community/geemap/blob/master/examples/notebooks/12_zonal_statistics.ipynb\" target=\"_parent\"><img src=\"https://colab.research.google.com/assets/colab-badge.svg\" alt=\"Open in Colab\"/></a>\n",
    "\n",
    "Uncomment the following line to install [geemap](https://geemap.org) if needed."
   ]
  },
  {
   "cell_type": "code",
   "execution_count": 1,
   "id": "57df6109",
   "metadata": {},
   "outputs": [],
   "source": [
    "# !pip install geemap"
   ]
  },
  {
   "cell_type": "markdown",
   "id": "16a8bed0",
   "metadata": {},
   "source": [
    "Load libraries"
   ]
  },
  {
   "cell_type": "code",
   "execution_count": null,
   "id": "dc8e26f5",
   "metadata": {
    "scrolled": true
   },
   "outputs": [
    {
     "name": "stderr",
     "output_type": "stream",
     "text": [
      "C:\\wbg\\Anaconda3\\lib\\site-packages\\pandas\\core\\computation\\expressions.py:21: UserWarning: Pandas requires version '2.8.0' or newer of 'numexpr' (version '2.7.3' currently installed).\n",
      "  from pandas.core.computation.check import NUMEXPR_INSTALLED\n",
      "C:\\wbg\\Anaconda3\\lib\\site-packages\\pandas\\core\\arrays\\masked.py:62: UserWarning: Pandas requires version '1.3.4' or newer of 'bottleneck' (version '1.3.2' currently installed).\n",
      "  from pandas.core import (\n"
     ]
    },
    {
     "data": {
      "text/html": [
       "<p>To authorize access needed by Earth Engine, open the following\n",
       "        URL in a web browser and follow the instructions:</p>\n",
       "        <p><a href=https://code.earthengine.google.com/client-auth?scopes=https%3A//www.googleapis.com/auth/earthengine%20https%3A//www.googleapis.com/auth/devstorage.full_control&request_id=ECopgFCtV31Po6uoMjdva0JIRtHXPtrxQkuUw7bLwnk&tc=mIKSpr6bfB2KPd4QQrmPoJoi32C6JHLyyFtnwaPh2_A&cc=B6b3hOt9a3ief8CtzGT4hJN20MllbG4AaGCylRGlzi4>https://code.earthengine.google.com/client-auth?scopes=https%3A//www.googleapis.com/auth/earthengine%20https%3A//www.googleapis.com/auth/devstorage.full_control&request_id=ECopgFCtV31Po6uoMjdva0JIRtHXPtrxQkuUw7bLwnk&tc=mIKSpr6bfB2KPd4QQrmPoJoi32C6JHLyyFtnwaPh2_A&cc=B6b3hOt9a3ief8CtzGT4hJN20MllbG4AaGCylRGlzi4</a></p>\n",
       "        <p>The authorization workflow will generate a code, which you should paste in the box below.</p>\n",
       "        "
      ],
      "text/plain": [
       "<IPython.core.display.HTML object>"
      ]
     },
     "metadata": {},
     "output_type": "display_data"
    }
   ],
   "source": [
    "import geemap\n",
    "import ee\n",
    "import os\n",
    "import getpass\n",
    "ee.Authenticate()\n",
    "ee.Initialize()"
   ]
  },
  {
   "cell_type": "markdown",
   "id": "f34b4607",
   "metadata": {},
   "source": [
    "Set the path"
   ]
  },
  {
   "cell_type": "code",
   "execution_count": 17,
   "id": "f583f499",
   "metadata": {},
   "outputs": [],
   "source": [
    "username = getpass.getuser()\n",
    "if username == \"WB495141\":\n",
    "    dir_output = 'Users/WB495141/GitHub/tanzania_spatial_training_2024/data-raw/'"
   ]
  },
  {
   "cell_type": "markdown",
   "id": "80d3e534",
   "metadata": {},
   "source": [
    "Define the extent of region for which image will be extracted"
   ]
  },
  {
   "cell_type": "code",
   "execution_count": 3,
   "id": "6f28bce4",
   "metadata": {},
   "outputs": [],
   "source": [
    "region = ee.Geometry.BBox(29.60168, -11.76347, 40.44495, -0.9857875)"
   ]
  },
  {
   "cell_type": "markdown",
   "id": "a71eae9b",
   "metadata": {},
   "source": [
    "Set the output directory where images will be downloaded"
   ]
  },
  {
   "cell_type": "code",
   "execution_count": 18,
   "id": "eaf58456",
   "metadata": {},
   "outputs": [],
   "source": [
    "out_dir = os.path.join(os.path.expanduser('~'), dir_output)"
   ]
  },
  {
   "cell_type": "markdown",
   "id": "e7e033bb",
   "metadata": {},
   "source": [
    "See https://code.earthengine.google.com/?asset=projects/UNFAO/ASIS/ASI_A for more details on what images are available in the collection of the Annual ASI. This depicts the percentage of arable land, within an administrative area, that has been affected by drought conditions over the entire cropping season. It differs from ASI, which is based on conditions from the start of the season up to the current dekad. The file name follows the following structure: ASI_A_{YYYY}_S{X}_{Z} where YYYY corresponds to year, X season 1 or 2 and lastly Z C (cropland) or P (Grassland). "
   ]
  },
  {
   "cell_type": "code",
   "execution_count": 9,
   "id": "b7a56727",
   "metadata": {},
   "outputs": [],
   "source": [
    "collection = (\n",
    "    ee.ImageCollection(\n",
    "    \"projects/UNFAO/ASIS/ASI_A\"\n",
    ").filterBounds(region).filterDate('2022-01-01','2023-12-31').filter(ee.Filter.listContains(\"system:band_names\", \"ASI_A\"))\n",
    ")"
   ]
  },
  {
   "cell_type": "code",
   "execution_count": 11,
   "id": "49cf3179",
   "metadata": {
    "scrolled": true
   },
   "outputs": [
    {
     "name": "stdout",
     "output_type": "stream",
     "text": [
      "['ASI_A_2022_S1_C', 'ASI_A_2022_S1_P', 'ASI_A_2022_S2_C', 'ASI_A_2022_S2_P']\n"
     ]
    }
   ],
   "source": [
    "print(collection.aggregate_array('system:index').getInfo())"
   ]
  },
  {
   "cell_type": "markdown",
   "id": "cad5f11b",
   "metadata": {},
   "source": [
    "Download images"
   ]
  },
  {
   "cell_type": "code",
   "execution_count": 12,
   "id": "942c82af",
   "metadata": {},
   "outputs": [
    {
     "name": "stdout",
     "output_type": "stream",
     "text": [
      "Total number of images: 4\n",
      "\n",
      "Exporting 1/4: C:\\Users\\WB495141\\OneDrive - WBG/poverty/tanzania_pti/doc/fy24/training_2024_04/climate-data-raw/tanzania/drought/asi\\ASI_A_2022_S1_C.tif\n",
      "Generating URL ...\n",
      "Downloading data from https://earthengine.googleapis.com/v1alpha/projects/earthengine-legacy/thumbnails/74c96b66a449267aa0a69a86ca75db5e-1ae260eebe251cfba5e2208087528a54:getPixels\n",
      "Please wait ...\n",
      "Data downloaded to C:\\Users\\WB495141\\OneDrive - WBG\\poverty\\tanzania_pti\\doc\\fy24\\training_2024_04\\climate-data-raw\\tanzania\\drought\\asi\\ASI_A_2022_S1_C.tif\n",
      "\n",
      "\n",
      "Exporting 2/4: C:\\Users\\WB495141\\OneDrive - WBG/poverty/tanzania_pti/doc/fy24/training_2024_04/climate-data-raw/tanzania/drought/asi\\ASI_A_2022_S1_P.tif\n",
      "Generating URL ...\n",
      "Downloading data from https://earthengine.googleapis.com/v1alpha/projects/earthengine-legacy/thumbnails/7d477a7c6d350528ea232b1a097fafa9-3f6d22d5cc79c2167f8c9bf1a17f1099:getPixels\n",
      "Please wait ...\n",
      "Data downloaded to C:\\Users\\WB495141\\OneDrive - WBG\\poverty\\tanzania_pti\\doc\\fy24\\training_2024_04\\climate-data-raw\\tanzania\\drought\\asi\\ASI_A_2022_S1_P.tif\n",
      "\n",
      "\n",
      "Exporting 3/4: C:\\Users\\WB495141\\OneDrive - WBG/poverty/tanzania_pti/doc/fy24/training_2024_04/climate-data-raw/tanzania/drought/asi\\ASI_A_2022_S2_C.tif\n",
      "Generating URL ...\n",
      "Downloading data from https://earthengine.googleapis.com/v1alpha/projects/earthengine-legacy/thumbnails/25b0776fcaa73ca8a9b7cfb3fbb3f7b8-0b1001efc24510ac5d3574aef379e3d2:getPixels\n",
      "Please wait ...\n",
      "Data downloaded to C:\\Users\\WB495141\\OneDrive - WBG\\poverty\\tanzania_pti\\doc\\fy24\\training_2024_04\\climate-data-raw\\tanzania\\drought\\asi\\ASI_A_2022_S2_C.tif\n",
      "\n",
      "\n",
      "Exporting 4/4: C:\\Users\\WB495141\\OneDrive - WBG/poverty/tanzania_pti/doc/fy24/training_2024_04/climate-data-raw/tanzania/drought/asi\\ASI_A_2022_S2_P.tif\n",
      "Generating URL ...\n",
      "Downloading data from https://earthengine.googleapis.com/v1alpha/projects/earthengine-legacy/thumbnails/53396b8a100ae201a167419e550c26ef-77d1f835109f05fb3f4b6e36e060d1e9:getPixels\n",
      "Please wait ...\n",
      "Data downloaded to C:\\Users\\WB495141\\OneDrive - WBG\\poverty\\tanzania_pti\\doc\\fy24\\training_2024_04\\climate-data-raw\\tanzania\\drought\\asi\\ASI_A_2022_S2_P.tif\n",
      "\n",
      "\n"
     ]
    }
   ],
   "source": [
    "geemap.ee_export_image_collection(collection, out_dir=out_dir, region = region)"
   ]
  },
  {
   "cell_type": "markdown",
   "id": "f12905aa",
   "metadata": {},
   "source": [
    "Let's visualize"
   ]
  },
  {
   "cell_type": "code",
   "execution_count": 13,
   "id": "3fefe71c",
   "metadata": {},
   "outputs": [
    {
     "data": {
      "application/vnd.jupyter.widget-view+json": {
       "model_id": "37f7e1fe0b334028a78f4a53fc8ae33b",
       "version_major": 2,
       "version_minor": 0
      },
      "text/plain": [
       "Map(center=[20, 0], controls=(WidgetControl(options=['position', 'transparent_bg'], widget=HBox(children=(Togg…"
      ]
     },
     "metadata": {},
     "output_type": "display_data"
    }
   ],
   "source": [
    "map = geemap.Map()\n",
    "map.centerObject(region)\n",
    "map"
   ]
  },
  {
   "cell_type": "code",
   "execution_count": 25,
   "id": "66f15b5c",
   "metadata": {},
   "outputs": [],
   "source": [
    "ASI_A_2022_S1_C = collection.first() #pick a specific image from imageCollection"
   ]
  },
  {
   "cell_type": "code",
   "execution_count": 26,
   "id": "b245565f",
   "metadata": {},
   "outputs": [],
   "source": [
    "asi_a_vis = {'min': 0, 'max': 254, 'palette': ['blue', 'green']}"
   ]
  },
  {
   "cell_type": "code",
   "execution_count": 27,
   "id": "67d58909",
   "metadata": {},
   "outputs": [],
   "source": [
    "map.addLayer(ASI_A_2022_S1_C, asi_a_vis, \"ASI\")"
   ]
  },
  {
   "cell_type": "markdown",
   "id": "3fd87599",
   "metadata": {},
   "source": [
    "See https://code.earthengine.google.com/?asset=projects/UNFAO/ASIS/HDF for more details on what images are available in the collection of Historic Agricultural Drought Frenquecy Maps"
   ]
  },
  {
   "cell_type": "code",
   "execution_count": 9,
   "id": "ff2d929b",
   "metadata": {},
   "outputs": [],
   "source": [
    "collection = (\n",
    "    ee.ImageCollection(\n",
    "    \"projects/UNFAO/ASIS/HDF\"\n",
    ").filterBounds(region)\n",
    ")"
   ]
  },
  {
   "cell_type": "code",
   "execution_count": 10,
   "id": "b4931cb2",
   "metadata": {},
   "outputs": [
    {
     "name": "stdout",
     "output_type": "stream",
     "text": [
      "['HDF_C_S1_LA30', 'HDF_C_S1_LA50', 'HDF_C_S2_LA30', 'HDF_C_S2_LA50', 'HDF_P_S1_LA30', 'HDF_P_S1_LA50', 'HDF_P_S2_LA30', 'HDF_P_S2_LA50']\n"
     ]
    }
   ],
   "source": [
    "print(collection.aggregate_array('system:index').getInfo())"
   ]
  },
  {
   "cell_type": "code",
   "execution_count": 11,
   "id": "36369b93",
   "metadata": {},
   "outputs": [
    {
     "name": "stdout",
     "output_type": "stream",
     "text": [
      "Total number of images: 8\n",
      "\n",
      "Exporting 1/8: C:\\Users\\WB495141\\OneDrive - WBG/poverty/tanzania_pti/doc/fy24/training_2024_04/climate-data-raw/tanzania/drought/asi\\HDF_C_S1_LA30.tif\n",
      "Generating URL ...\n",
      "Downloading data from https://earthengine.googleapis.com/v1alpha/projects/earthengine-legacy/thumbnails/acfc51074fa785060e5dd5bc6ac0d930-c51bdc253037696639ad3ed9d479707e:getPixels\n",
      "Please wait ...\n",
      "Data downloaded to C:\\Users\\WB495141\\OneDrive - WBG\\poverty\\tanzania_pti\\doc\\fy24\\training_2024_04\\climate-data-raw\\tanzania\\drought\\asi\\HDF_C_S1_LA30.tif\n",
      "\n",
      "\n",
      "Exporting 2/8: C:\\Users\\WB495141\\OneDrive - WBG/poverty/tanzania_pti/doc/fy24/training_2024_04/climate-data-raw/tanzania/drought/asi\\HDF_C_S1_LA50.tif\n",
      "Generating URL ...\n",
      "Downloading data from https://earthengine.googleapis.com/v1alpha/projects/earthengine-legacy/thumbnails/d1ec1936853e021aab9ae383b0bd9785-da7a6ef187a091837c00f0d02c251889:getPixels\n",
      "Please wait ...\n",
      "Data downloaded to C:\\Users\\WB495141\\OneDrive - WBG\\poverty\\tanzania_pti\\doc\\fy24\\training_2024_04\\climate-data-raw\\tanzania\\drought\\asi\\HDF_C_S1_LA50.tif\n",
      "\n",
      "\n",
      "Exporting 3/8: C:\\Users\\WB495141\\OneDrive - WBG/poverty/tanzania_pti/doc/fy24/training_2024_04/climate-data-raw/tanzania/drought/asi\\HDF_C_S2_LA30.tif\n",
      "Generating URL ...\n",
      "Downloading data from https://earthengine.googleapis.com/v1alpha/projects/earthengine-legacy/thumbnails/f6cd0891930343a4ef829833d58bb878-824859611b85f7fdf7cc6af4befaf6bf:getPixels\n",
      "Please wait ...\n",
      "Data downloaded to C:\\Users\\WB495141\\OneDrive - WBG\\poverty\\tanzania_pti\\doc\\fy24\\training_2024_04\\climate-data-raw\\tanzania\\drought\\asi\\HDF_C_S2_LA30.tif\n",
      "\n",
      "\n",
      "Exporting 4/8: C:\\Users\\WB495141\\OneDrive - WBG/poverty/tanzania_pti/doc/fy24/training_2024_04/climate-data-raw/tanzania/drought/asi\\HDF_C_S2_LA50.tif\n",
      "Generating URL ...\n",
      "Downloading data from https://earthengine.googleapis.com/v1alpha/projects/earthengine-legacy/thumbnails/ac907a381a7fb23fe54b2dcdf6f4f515-b40cc4ac92a79cd0e3041be72699bd6c:getPixels\n",
      "Please wait ...\n",
      "Data downloaded to C:\\Users\\WB495141\\OneDrive - WBG\\poverty\\tanzania_pti\\doc\\fy24\\training_2024_04\\climate-data-raw\\tanzania\\drought\\asi\\HDF_C_S2_LA50.tif\n",
      "\n",
      "\n",
      "Exporting 5/8: C:\\Users\\WB495141\\OneDrive - WBG/poverty/tanzania_pti/doc/fy24/training_2024_04/climate-data-raw/tanzania/drought/asi\\HDF_P_S1_LA30.tif\n",
      "Generating URL ...\n",
      "Downloading data from https://earthengine.googleapis.com/v1alpha/projects/earthengine-legacy/thumbnails/c47c4c20c8ab4f104f659a3b61da9872-752da60f176500c658c15dd6b9fd1fa2:getPixels\n",
      "Please wait ...\n",
      "Data downloaded to C:\\Users\\WB495141\\OneDrive - WBG\\poverty\\tanzania_pti\\doc\\fy24\\training_2024_04\\climate-data-raw\\tanzania\\drought\\asi\\HDF_P_S1_LA30.tif\n",
      "\n",
      "\n",
      "Exporting 6/8: C:\\Users\\WB495141\\OneDrive - WBG/poverty/tanzania_pti/doc/fy24/training_2024_04/climate-data-raw/tanzania/drought/asi\\HDF_P_S1_LA50.tif\n",
      "Generating URL ...\n",
      "Downloading data from https://earthengine.googleapis.com/v1alpha/projects/earthengine-legacy/thumbnails/a966bd16523df5e096ce1a62d89267b0-d66a380a1902bf12bc348cd4c4c7f4f1:getPixels\n",
      "Please wait ...\n",
      "Data downloaded to C:\\Users\\WB495141\\OneDrive - WBG\\poverty\\tanzania_pti\\doc\\fy24\\training_2024_04\\climate-data-raw\\tanzania\\drought\\asi\\HDF_P_S1_LA50.tif\n",
      "\n",
      "\n",
      "Exporting 7/8: C:\\Users\\WB495141\\OneDrive - WBG/poverty/tanzania_pti/doc/fy24/training_2024_04/climate-data-raw/tanzania/drought/asi\\HDF_P_S2_LA30.tif\n",
      "Generating URL ...\n",
      "Downloading data from https://earthengine.googleapis.com/v1alpha/projects/earthengine-legacy/thumbnails/319f6ade66e288e014ff320323eea79c-726fa316537a37f149d34918250a651d:getPixels\n",
      "Please wait ...\n",
      "Data downloaded to C:\\Users\\WB495141\\OneDrive - WBG\\poverty\\tanzania_pti\\doc\\fy24\\training_2024_04\\climate-data-raw\\tanzania\\drought\\asi\\HDF_P_S2_LA30.tif\n",
      "\n",
      "\n",
      "Exporting 8/8: C:\\Users\\WB495141\\OneDrive - WBG/poverty/tanzania_pti/doc/fy24/training_2024_04/climate-data-raw/tanzania/drought/asi\\HDF_P_S2_LA50.tif\n",
      "Generating URL ...\n",
      "Downloading data from https://earthengine.googleapis.com/v1alpha/projects/earthengine-legacy/thumbnails/8e0e000d746a7069cd51d99aac29bc5e-1fc9b1534c2b6851ed70bbc2b5179183:getPixels\n",
      "Please wait ...\n",
      "Data downloaded to C:\\Users\\WB495141\\OneDrive - WBG\\poverty\\tanzania_pti\\doc\\fy24\\training_2024_04\\climate-data-raw\\tanzania\\drought\\asi\\HDF_P_S2_LA50.tif\n",
      "\n",
      "\n"
     ]
    }
   ],
   "source": [
    "geemap.ee_export_image_collection(collection, out_dir=out_dir, region = region)"
   ]
  },
  {
   "cell_type": "code",
   "execution_count": null,
   "id": "cbd4c0b0",
   "metadata": {},
   "outputs": [],
   "source": []
  },
  {
   "cell_type": "code",
   "execution_count": 24,
   "id": "61bd4045",
   "metadata": {},
   "outputs": [
    {
     "name": "stdout",
     "output_type": "stream",
     "text": [
      "Generating URL ...\n",
      "An error occurred while downloading.\n",
      "Total request size (4649375016 bytes) must be less than or equal to 50331648 bytes.\n"
     ]
    }
   ],
   "source": [
    "image = ee.Image(\"UMD/hansen/global_forest_change_2023_v1_11\")\n",
    "filename = os.path.join(out_dir,\"/deforestation/\",\"deforestation_tza.tif\")\n",
    "image = image.clip(region)\n",
    "geemap.ee_export_image(\n",
    "    image, filename=filename, scale=90, region=region, file_per_band=True\n",
    ")"
   ]
  },
  {
   "cell_type": "code",
   "execution_count": 13,
   "id": "6a0f9656",
   "metadata": {},
   "outputs": [
    {
     "ename": "AttributeError",
     "evalue": "'Image' object has no attribute 'aggregate_array'",
     "output_type": "error",
     "traceback": [
      "\u001b[1;31m---------------------------------------------------------------------------\u001b[0m",
      "\u001b[1;31mAttributeError\u001b[0m                            Traceback (most recent call last)",
      "\u001b[1;32m~\\AppData\\Local\\Temp/ipykernel_22788/2887898851.py\u001b[0m in \u001b[0;36m<module>\u001b[1;34m\u001b[0m\n\u001b[1;32m----> 1\u001b[1;33m \u001b[0mprint\u001b[0m\u001b[1;33m(\u001b[0m\u001b[0mcollection\u001b[0m\u001b[1;33m.\u001b[0m\u001b[0maggregate_array\u001b[0m\u001b[1;33m(\u001b[0m\u001b[1;34m'system:index'\u001b[0m\u001b[1;33m)\u001b[0m\u001b[1;33m.\u001b[0m\u001b[0mgetInfo\u001b[0m\u001b[1;33m(\u001b[0m\u001b[1;33m)\u001b[0m\u001b[1;33m)\u001b[0m\u001b[1;33m\u001b[0m\u001b[1;33m\u001b[0m\u001b[0m\n\u001b[0m",
      "\u001b[1;31mAttributeError\u001b[0m: 'Image' object has no attribute 'aggregate_array'"
     ]
    }
   ],
   "source": [
    "print(collection.aggregate_array('system:index').getInfo())"
   ]
  },
  {
   "cell_type": "code",
   "execution_count": 12,
   "id": "c96b1b7c",
   "metadata": {},
   "outputs": [
    {
     "ename": "NameError",
     "evalue": "name 'Map' is not defined",
     "output_type": "error",
     "traceback": [
      "\u001b[1;31m---------------------------------------------------------------------------\u001b[0m",
      "\u001b[1;31mNameError\u001b[0m                                 Traceback (most recent call last)",
      "\u001b[1;32m~\\AppData\\Local\\Temp/ipykernel_22788/3249403681.py\u001b[0m in \u001b[0;36m<module>\u001b[1;34m\u001b[0m\n\u001b[1;32m----> 1\u001b[1;33m \u001b[0mMap\u001b[0m\u001b[1;33m.\u001b[0m\u001b[0maddLayer\u001b[0m\u001b[1;33m(\u001b[0m\u001b[0mcollection\u001b[0m\u001b[1;33m)\u001b[0m\u001b[1;33m\u001b[0m\u001b[1;33m\u001b[0m\u001b[0m\n\u001b[0m",
      "\u001b[1;31mNameError\u001b[0m: name 'Map' is not defined"
     ]
    }
   ],
   "source": [
    "Map.addLayer(collection)"
   ]
  },
  {
   "cell_type": "code",
   "execution_count": null,
   "id": "c18a4d72",
   "metadata": {},
   "outputs": [],
   "source": []
  }
 ],
 "metadata": {
  "kernelspec": {
   "display_name": "Python 3 (ipykernel)",
   "language": "python",
   "name": "python3"
  },
  "language_info": {
   "codemirror_mode": {
    "name": "ipython",
    "version": 3
   },
   "file_extension": ".py",
   "mimetype": "text/x-python",
   "name": "python",
   "nbconvert_exporter": "python",
   "pygments_lexer": "ipython3",
   "version": "3.9.7"
  }
 },
 "nbformat": 4,
 "nbformat_minor": 5
}
