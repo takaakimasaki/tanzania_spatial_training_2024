{
 "cells": [
  {
   "cell_type": "markdown",
   "id": "915465c1",
   "metadata": {},
   "source": [
    "<a href=\"https://githubtocolab.com/gee-community/geemap/blob/master/examples/notebooks/12_zonal_statistics.ipynb\" target=\"_parent\"><img src=\"https://colab.research.google.com/assets/colab-badge.svg\" alt=\"Open in Colab\"/></a>\n",
    "\n",
    "Uncomment the following line to install [geemap](https://geemap.org) if needed."
   ]
  },
  {
   "cell_type": "code",
   "execution_count": 1,
   "id": "57df6109",
   "metadata": {},
   "outputs": [],
   "source": [
    "# !pip install geemap"
   ]
  },
  {
   "cell_type": "markdown",
   "id": "16a8bed0",
   "metadata": {},
   "source": [
    "Load libraries"
   ]
  },
  {
   "cell_type": "code",
   "execution_count": 1,
   "id": "dc8e26f5",
   "metadata": {
    "scrolled": true
   },
   "outputs": [
    {
     "name": "stderr",
     "output_type": "stream",
     "text": [
      "C:\\wbg\\Anaconda3\\lib\\site-packages\\pandas\\core\\computation\\expressions.py:21: UserWarning: Pandas requires version '2.8.0' or newer of 'numexpr' (version '2.7.3' currently installed).\n",
      "  from pandas.core.computation.check import NUMEXPR_INSTALLED\n",
      "C:\\wbg\\Anaconda3\\lib\\site-packages\\pandas\\core\\arrays\\masked.py:62: UserWarning: Pandas requires version '1.3.4' or newer of 'bottleneck' (version '1.3.2' currently installed).\n",
      "  from pandas.core import (\n"
     ]
    },
    {
     "data": {
      "text/html": [
       "<p>To authorize access needed by Earth Engine, open the following\n",
       "        URL in a web browser and follow the instructions:</p>\n",
       "        <p><a href=https://code.earthengine.google.com/client-auth?scopes=https%3A//www.googleapis.com/auth/earthengine%20https%3A//www.googleapis.com/auth/devstorage.full_control&request_id=nmU7vAryMhs-KozoWSgmopvRNLBaFkmALYyzqqMg9Do&tc=dF_EW99A_QLoKnK6tjmxGc5xdy5EvXXzP9r4PBDlfnI&cc=v7opP9G3y6rOADDEfnCsySbY4CEAtTl1Hq-QOmZpFDE>https://code.earthengine.google.com/client-auth?scopes=https%3A//www.googleapis.com/auth/earthengine%20https%3A//www.googleapis.com/auth/devstorage.full_control&request_id=nmU7vAryMhs-KozoWSgmopvRNLBaFkmALYyzqqMg9Do&tc=dF_EW99A_QLoKnK6tjmxGc5xdy5EvXXzP9r4PBDlfnI&cc=v7opP9G3y6rOADDEfnCsySbY4CEAtTl1Hq-QOmZpFDE</a></p>\n",
       "        <p>The authorization workflow will generate a code, which you should paste in the box below.</p>\n",
       "        "
      ],
      "text/plain": [
       "<IPython.core.display.HTML object>"
      ]
     },
     "metadata": {},
     "output_type": "display_data"
    },
    {
     "name": "stdout",
     "output_type": "stream",
     "text": [
      "Enter verification code: 4/1AeaYSHD9EWycS-RWJfoTbV4GGcWfPWlWWH7O_zNQlpdlOtCHa1jQI3y_woM\n",
      "\n",
      "Successfully saved authorization token.\n"
     ]
    }
   ],
   "source": [
    "import geemap\n",
    "import ee\n",
    "import os\n",
    "import getpass\n",
    "ee.Authenticate()\n",
    "ee.Initialize()"
   ]
  },
  {
   "cell_type": "markdown",
   "id": "f34b4607",
   "metadata": {},
   "source": [
    "Set the path"
   ]
  },
  {
   "cell_type": "code",
   "execution_count": 14,
   "id": "f583f499",
   "metadata": {},
   "outputs": [],
   "source": [
    "username = getpass.getuser()\n",
    "if username == \"WB495141\":\n",
    "    dir_output = 'C:/Users/WB495141/GitHub/tanzania_spatial_training_2024/data-raw/ndvi/'\n",
    "\n",
    "dir_output = \"C:/Users/WB495141/OneDrive - WBG/Desktop/day6/\""
   ]
  },
  {
   "cell_type": "markdown",
   "id": "80d3e534",
   "metadata": {},
   "source": [
    "Define the extent of region for which image will be extracted"
   ]
  },
  {
   "cell_type": "code",
   "execution_count": 15,
   "id": "6f28bce4",
   "metadata": {},
   "outputs": [],
   "source": [
    "region = ee.Geometry.BBox(29.60168, -11.76347, 40.44495, -0.9857875)"
   ]
  },
  {
   "cell_type": "markdown",
   "id": "a71eae9b",
   "metadata": {},
   "source": [
    "Set the output directory where images will be downloaded"
   ]
  },
  {
   "cell_type": "code",
   "execution_count": 16,
   "id": "eaf58456",
   "metadata": {},
   "outputs": [],
   "source": [
    "out_dir = os.path.join(os.path.expanduser('~'), dir_output)"
   ]
  },
  {
   "cell_type": "markdown",
   "id": "e7e033bb",
   "metadata": {},
   "source": [
    "Let's get NDVI data which measures greeness of land. See more on this product in: https://developers.google.com/earth-engine/datasets/catalog/MODIS_061_MOD13A2. Here we set "
   ]
  },
  {
   "cell_type": "code",
   "execution_count": 25,
   "id": "b7a56727",
   "metadata": {},
   "outputs": [],
   "source": [
    "collection = (\n",
    "    ee.ImageCollection('NOAA/VIIRS/DNB/ANNUAL_V21').filterBounds(region).filterDate('2012-01-01', '2022-01-31').select('average_masked')\n",
    ")"
   ]
  },
  {
   "cell_type": "markdown",
   "id": "fbd78560",
   "metadata": {},
   "source": [
    "Let's check which images are available."
   ]
  },
  {
   "cell_type": "code",
   "execution_count": 26,
   "id": "49cf3179",
   "metadata": {
    "scrolled": true
   },
   "outputs": [
    {
     "name": "stdout",
     "output_type": "stream",
     "text": [
      "['20130101', '20140101', '20150101', '20160101', '20170101', '20180101', '20190101', '20200101', '20210101']\n"
     ]
    }
   ],
   "source": [
    "print(collection.aggregate_array('system:index').getInfo())"
   ]
  },
  {
   "cell_type": "markdown",
   "id": "cad5f11b",
   "metadata": {},
   "source": [
    "There are two NDVI images, one for January 1, 2015 and the other for January 17, 2015. Download images"
   ]
  },
  {
   "cell_type": "code",
   "execution_count": 22,
   "id": "942c82af",
   "metadata": {
    "scrolled": true
   },
   "outputs": [
    {
     "name": "stdout",
     "output_type": "stream",
     "text": [
      "Total number of images: 4\n",
      "\n",
      "Exporting 1/4: C:/Users/WB495141/OneDrive - WBG/Desktop/day6/DMSP2010v1.tif\n",
      "Generating URL ...\n",
      "Downloading data from https://earthengine.googleapis.com/v1alpha/projects/earthengine-legacy/thumbnails/aa1d566b1a36dd6d4318ddf4b2625355-c631c7077077992ff7e45be6c81a0be1:getPixels\n",
      "Please wait ...\n",
      "Data downloaded to C:\\Users\\WB495141\\OneDrive - WBG\\Desktop\\day6\\DMSP2010v1.tif\n",
      "\n",
      "\n",
      "Exporting 2/4: C:/Users/WB495141/OneDrive - WBG/Desktop/day6/DMSP2011v1.tif\n",
      "Generating URL ...\n",
      "Downloading data from https://earthengine.googleapis.com/v1alpha/projects/earthengine-legacy/thumbnails/fc00789b0f3c37b4a69a8e27d8adb21a-927fa62910aff14949c5afd016d4303a:getPixels\n",
      "Please wait ...\n",
      "Data downloaded to C:\\Users\\WB495141\\OneDrive - WBG\\Desktop\\day6\\DMSP2011v1.tif\n",
      "\n",
      "\n",
      "Exporting 3/4: C:/Users/WB495141/OneDrive - WBG/Desktop/day6/DMSP2012v1.tif\n",
      "Generating URL ...\n",
      "Downloading data from https://earthengine.googleapis.com/v1alpha/projects/earthengine-legacy/thumbnails/c2b8ebdb72220a5e0cdca09381935245-5b5bce5ca65e38276ee92bfb78721822:getPixels\n",
      "Please wait ...\n",
      "Data downloaded to C:\\Users\\WB495141\\OneDrive - WBG\\Desktop\\day6\\DMSP2012v1.tif\n",
      "\n",
      "\n",
      "Exporting 4/4: C:/Users/WB495141/OneDrive - WBG/Desktop/day6/DMSP2013v1.tif\n",
      "Generating URL ...\n",
      "Downloading data from https://earthengine.googleapis.com/v1alpha/projects/earthengine-legacy/thumbnails/c4fb42e57772f172e1926a4b14f1e75e-56003ce3a9b06b8fb633ca4d9dcfe798:getPixels\n",
      "Please wait ...\n",
      "Data downloaded to C:\\Users\\WB495141\\OneDrive - WBG\\Desktop\\day6\\DMSP2013v1.tif\n",
      "\n",
      "\n"
     ]
    }
   ],
   "source": [
    "geemap.ee_export_image_collection(collection, out_dir=out_dir, region = region)"
   ]
  },
  {
   "cell_type": "markdown",
   "id": "038f483d",
   "metadata": {},
   "source": [
    "Compute zonal statistics. To do that, you first need to upload your shapefile to your project site in GEE. In my case, it's https://code.earthengine.google.com/ and go to \"Assets\" where you can save your shapefile. After you deposit your shapefile, you can read it here. "
   ]
  },
  {
   "cell_type": "code",
   "execution_count": 11,
   "id": "e1ddf263",
   "metadata": {},
   "outputs": [],
   "source": [
    "poly = ee.FeatureCollection('projects/ee-tmasaki040685/assets/tza_admbnda_adm1_20181019')"
   ]
  },
  {
   "cell_type": "markdown",
   "id": "a8e2a527",
   "metadata": {},
   "source": [
    "Set the filename for zonal statistics"
   ]
  },
  {
   "cell_type": "code",
   "execution_count": 12,
   "id": "d13ff46a",
   "metadata": {},
   "outputs": [],
   "source": [
    "filename = os.path.join(out_dir, \"ndvi_test.csv\")"
   ]
  },
  {
   "cell_type": "markdown",
   "id": "9a80048a",
   "metadata": {},
   "source": [
    "Finally, run geemap.zonal_stats() function to compute zonal statistics."
   ]
  },
  {
   "cell_type": "code",
   "execution_count": 13,
   "id": "256d6645",
   "metadata": {
    "scrolled": true
   },
   "outputs": [
    {
     "name": "stdout",
     "output_type": "stream",
     "text": [
      "Computing statistics ...\n",
      "Generating URL ...\n",
      "Downloading data from https://earthengine.googleapis.com/v1alpha/projects/earthengine-legacy/tables/96482b92bba69c1f59b525d2f197c1ab-f8b0d85b2e86e0700f9d50dcd2a4bb76:getFeatures\n",
      "Please wait ...\n",
      "Data downloaded to C:\\Users\\WB495141\\OneDrive - WBG\\Desktop\\day6\\ndvi_test.csv\n"
     ]
    }
   ],
   "source": [
    "geemap.zonal_stats(collection, poly, filename, stat_type=\"MEAN\", scale=1000)"
   ]
  },
  {
   "cell_type": "code",
   "execution_count": null,
   "id": "33e12707",
   "metadata": {},
   "outputs": [],
   "source": []
  },
  {
   "cell_type": "code",
   "execution_count": null,
   "id": "b12c594a",
   "metadata": {},
   "outputs": [],
   "source": []
  },
  {
   "cell_type": "code",
   "execution_count": null,
   "id": "d32043b8",
   "metadata": {},
   "outputs": [],
   "source": []
  },
  {
   "cell_type": "code",
   "execution_count": null,
   "id": "41fb5869",
   "metadata": {},
   "outputs": [],
   "source": []
  },
  {
   "cell_type": "code",
   "execution_count": null,
   "id": "5c161e1b",
   "metadata": {},
   "outputs": [],
   "source": []
  }
 ],
 "metadata": {
  "kernelspec": {
   "display_name": "Python 3 (ipykernel)",
   "language": "python",
   "name": "python3"
  },
  "language_info": {
   "codemirror_mode": {
    "name": "ipython",
    "version": 3
   },
   "file_extension": ".py",
   "mimetype": "text/x-python",
   "name": "python",
   "nbconvert_exporter": "python",
   "pygments_lexer": "ipython3",
   "version": "3.9.7"
  }
 },
 "nbformat": 4,
 "nbformat_minor": 5
}
